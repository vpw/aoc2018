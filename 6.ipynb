{
  "nbformat": 4,
  "nbformat_minor": 0,
  "metadata": {
    "colab": {
      "name": "6.ipynb",
      "version": "0.3.2",
      "provenance": [],
      "include_colab_link": true
    },
    "kernelspec": {
      "name": "python3",
      "display_name": "Python 3"
    }
  },
  "cells": [
    {
      "cell_type": "markdown",
      "metadata": {
        "id": "view-in-github",
        "colab_type": "text"
      },
      "source": [
        "<a href=\"https://colab.research.google.com/github/vpw/aoc2018/blob/master/6.ipynb\" target=\"_parent\"><img src=\"https://colab.research.google.com/assets/colab-badge.svg\" alt=\"Open In Colab\"/></a>"
      ]
    },
    {
      "metadata": {
        "id": "nbzITa5dpXZV",
        "colab_type": "code",
        "colab": {
          "base_uri": "https://localhost:8080/",
          "height": 411
        },
        "outputId": "3c6d190d-074d-4e57-a441-c5e8325c97a8"
      },
      "cell_type": "code",
      "source": [
        "!pip install sets\n"
      ],
      "execution_count": 58,
      "outputs": [
        {
          "output_type": "stream",
          "text": [
            "Collecting sets\n",
            "  Downloading https://files.pythonhosted.org/packages/61/9c/91d73bb2973aeea4c3626154b1cad68f3cadfb410372997d9580d5e333f7/sets-0.3.2.tar.gz\n",
            "Requirement already satisfied: numpy in /usr/local/lib/python3.6/dist-packages (from sets) (1.14.6)\n",
            "Requirement already satisfied: requests in /usr/local/lib/python3.6/dist-packages (from sets) (2.18.4)\n",
            "Requirement already satisfied: nltk in /usr/local/lib/python3.6/dist-packages (from sets) (3.2.5)\n",
            "Requirement already satisfied: lxml in /usr/local/lib/python3.6/dist-packages (from sets) (4.2.5)\n",
            "Collecting definitions (from sets)\n",
            "  Downloading https://files.pythonhosted.org/packages/99/2c/8ee3c9fc06194cdb739903c3d6b3d3e5a7ec78d801966aefdf1f08247b62/definitions-0.2.0.tar.gz\n",
            "Requirement already satisfied: idna<2.7,>=2.5 in /usr/local/lib/python3.6/dist-packages (from requests->sets) (2.6)\n",
            "Requirement already satisfied: chardet<3.1.0,>=3.0.2 in /usr/local/lib/python3.6/dist-packages (from requests->sets) (3.0.4)\n",
            "Requirement already satisfied: urllib3<1.23,>=1.21.1 in /usr/local/lib/python3.6/dist-packages (from requests->sets) (1.22)\n",
            "Requirement already satisfied: certifi>=2017.4.17 in /usr/local/lib/python3.6/dist-packages (from requests->sets) (2018.11.29)\n",
            "Requirement already satisfied: six in /usr/local/lib/python3.6/dist-packages (from nltk->sets) (1.11.0)\n",
            "Requirement already satisfied: PyYAML in /usr/local/lib/python3.6/dist-packages (from definitions->sets) (3.13)\n",
            "Building wheels for collected packages: sets, definitions\n",
            "  Running setup.py bdist_wheel for sets ... \u001b[?25l-\b \b\\\b \bdone\n",
            "\u001b[?25h  Stored in directory: /root/.cache/pip/wheels/fd/3a/d6/cadf755364b4b04a541f213a884c1611d29431eac1e4b17a06\n",
            "  Running setup.py bdist_wheel for definitions ... \u001b[?25l-\b \bdone\n",
            "\u001b[?25h  Stored in directory: /root/.cache/pip/wheels/ed/7f/9b/effe8392523b54d1987ce02c4d79bd2454cfc95a7d632f0421\n",
            "Successfully built sets definitions\n",
            "Installing collected packages: definitions, sets\n",
            "Successfully installed definitions-0.2.0 sets-0.3.2\n"
          ],
          "name": "stdout"
        }
      ]
    },
    {
      "metadata": {
        "id": "Hk8EbSrKeOky",
        "colab_type": "code",
        "colab": {
          "base_uri": "https://localhost:8080/",
          "height": 333
        },
        "outputId": "782cd396-a31b-44a2-8e82-f1b764684e70"
      },
      "cell_type": "code",
      "source": [
        "import re\n",
        "from operator import itemgetter\n"
      ],
      "execution_count": 59,
      "outputs": [
        {
          "output_type": "error",
          "ename": "ImportError",
          "evalue": "ignored",
          "traceback": [
            "\u001b[0;31m---------------------------------------------------------------------------\u001b[0m",
            "\u001b[0;31mImportError\u001b[0m                               Traceback (most recent call last)",
            "\u001b[0;32m<ipython-input-59-d8fbf50be4b8>\u001b[0m in \u001b[0;36m<module>\u001b[0;34m()\u001b[0m\n\u001b[1;32m      1\u001b[0m \u001b[0;32mimport\u001b[0m \u001b[0mre\u001b[0m\u001b[0;34m\u001b[0m\u001b[0;34m\u001b[0m\u001b[0m\n\u001b[1;32m      2\u001b[0m \u001b[0;32mfrom\u001b[0m \u001b[0moperator\u001b[0m \u001b[0;32mimport\u001b[0m \u001b[0mitemgetter\u001b[0m\u001b[0;34m\u001b[0m\u001b[0;34m\u001b[0m\u001b[0m\n\u001b[0;32m----> 3\u001b[0;31m \u001b[0;32mfrom\u001b[0m \u001b[0msets\u001b[0m \u001b[0;32mimport\u001b[0m \u001b[0mSet\u001b[0m\u001b[0;34m\u001b[0m\u001b[0;34m\u001b[0m\u001b[0m\n\u001b[0m",
            "\u001b[0;31mImportError\u001b[0m: cannot import name 'Set'",
            "",
            "\u001b[0;31m---------------------------------------------------------------------------\u001b[0;32m\nNOTE: If your import is failing due to a missing package, you can\nmanually install dependencies using either !pip or !apt.\n\nTo view examples of installing some common dependencies, click the\n\"Open Examples\" button below.\n\u001b[0;31m---------------------------------------------------------------------------\u001b[0m\n"
          ]
        }
      ]
    },
    {
      "metadata": {
        "id": "jnIV2FmSY1Aa",
        "colab_type": "code",
        "colab": {
          "base_uri": "https://localhost:8080/",
          "height": 34
        },
        "outputId": "23d63436-290c-43dd-8e0c-4fcdf7d3467f"
      },
      "cell_type": "code",
      "source": [
        "def md(a,b):\n",
        "  return abs(a[0]-b[0]) + abs(a[1]-b[1])\n",
        "\n",
        "def sol1():\n",
        "  f=open('input.txt')\n",
        "  points=[]\n",
        "  for i,inp in enumerate(f):\n",
        "    x,y=int(inp.split(',')[0]), int(inp.split(',')[1])\n",
        "    #print (x,y)\n",
        "    points.append((i,x,y))\n",
        "  \n",
        "  #points.sort(key=itemgetter(1,2))\n",
        "  #print(points)  \n",
        "  minx=min(x for (i,x,y) in points)\n",
        "  maxx=max(x for (i,x,y) in points)\n",
        "  miny=min(y for (i,x,y) in points)\n",
        "  maxy=max(y for (i,x,y) in points)\n",
        "  inf=set()\n",
        "  cts={}\n",
        "  for x in range(maxx-minx+2):\n",
        "    for y in range(maxy-miny+2):\n",
        "      ds=[md((x+minx,y+miny),p[1:]) for p in points]\n",
        "      mind=min(ds)\n",
        "      pts=[points[i][0] for i,v in enumerate(ds) if v==mind]\n",
        "      if(x==0 or y==0 or x==maxx-minx+1 or y==maxy-miny+1):\n",
        "        for i in pts:\n",
        "          inf.add(i)\n",
        "      if (len(pts)==1):\n",
        "        if (pts[0] in cts):\n",
        "          cts[pts[0]]+=1\n",
        "        else:\n",
        "          cts[pts[0]]=1\n",
        "  #print(inf)\n",
        "  #print(cts)\n",
        "  return max([v for k,v in cts.items() if k not in inf])\n",
        "\n",
        "      \n",
        "sol1()"
      ],
      "execution_count": 68,
      "outputs": [
        {
          "output_type": "execute_result",
          "data": {
            "text/plain": [
              "3909"
            ]
          },
          "metadata": {
            "tags": []
          },
          "execution_count": 68
        }
      ]
    },
    {
      "metadata": {
        "id": "AMQ3pbznbatN",
        "colab_type": "code",
        "colab": {
          "base_uri": "https://localhost:8080/",
          "height": 68
        },
        "outputId": "a43f4700-272e-47b4-a165-3dec563d6089"
      },
      "cell_type": "code",
      "source": [
        "a=[]\n",
        "for i in range(3):\n",
        "  a.append([])\n",
        "  print(a[i])\n",
        "  a[i].append\n",
        "  #a[i].append(*3)\n",
        "  #for j in range(3):\n",
        "  #  a[i].append(i+j)"
      ],
      "execution_count": 37,
      "outputs": [
        {
          "output_type": "stream",
          "text": [
            "[]\n",
            "[]\n",
            "[]\n"
          ],
          "name": "stdout"
        }
      ]
    },
    {
      "metadata": {
        "id": "gcJd3VD0Ztfw",
        "colab_type": "code",
        "colab": {
          "base_uri": "https://localhost:8080/",
          "height": 34
        },
        "outputId": "0cc26f6b-5903-4600-fd07-59297552c516"
      },
      "cell_type": "code",
      "source": [
        "a"
      ],
      "execution_count": 39,
      "outputs": [
        {
          "output_type": "execute_result",
          "data": {
            "text/plain": [
              "[[], [], []]"
            ]
          },
          "metadata": {
            "tags": []
          },
          "execution_count": 39
        }
      ]
    },
    {
      "metadata": {
        "id": "iFegb74MgfCE",
        "colab_type": "code",
        "colab": {}
      },
      "cell_type": "code",
      "source": [
        ""
      ],
      "execution_count": 0,
      "outputs": []
    }
  ]
}