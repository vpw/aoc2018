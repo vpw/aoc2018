{
  "nbformat": 4,
  "nbformat_minor": 0,
  "metadata": {
    "colab": {
      "name": "6.ipynb",
      "version": "0.3.2",
      "provenance": [],
      "include_colab_link": true
    },
    "kernelspec": {
      "name": "python3",
      "display_name": "Python 3"
    }
  },
  "cells": [
    {
      "cell_type": "markdown",
      "metadata": {
        "id": "view-in-github",
        "colab_type": "text"
      },
      "source": [
        "<a href=\"https://colab.research.google.com/github/vpw/aoc2018/blob/master/6.ipynb\" target=\"_parent\"><img src=\"https://colab.research.google.com/assets/colab-badge.svg\" alt=\"Open In Colab\"/></a>"
      ]
    },
    {
      "metadata": {
        "id": "Hk8EbSrKeOky",
        "colab_type": "code",
        "colab": {}
      },
      "cell_type": "code",
      "source": [
        "import re\n",
        "from operator import itemgetter"
      ],
      "execution_count": 0,
      "outputs": []
    },
    {
      "metadata": {
        "id": "jnIV2FmSY1Aa",
        "colab_type": "code",
        "colab": {
          "base_uri": "https://localhost:8080/",
          "height": 34
        },
        "outputId": "23d63436-290c-43dd-8e0c-4fcdf7d3467f"
      },
      "cell_type": "code",
      "source": [
        "def md(a,b):\n",
        "  return abs(a[0]-b[0]) + abs(a[1]-b[1])\n",
        "\n",
        "def sol1():\n",
        "  f=open('input.txt')\n",
        "  points=[]\n",
        "  for i,inp in enumerate(f):\n",
        "    x,y=int(inp.split(',')[0]), int(inp.split(',')[1])\n",
        "    #print (x,y)\n",
        "    points.append((i,x,y))\n",
        "  \n",
        "  #points.sort(key=itemgetter(1,2))\n",
        "  #print(points)  \n",
        "  minx=min(x for (i,x,y) in points)\n",
        "  maxx=max(x for (i,x,y) in points)\n",
        "  miny=min(y for (i,x,y) in points)\n",
        "  maxy=max(y for (i,x,y) in points)\n",
        "  inf=set()\n",
        "  cts={}\n",
        "  for x in range(maxx-minx+2):\n",
        "    for y in range(maxy-miny+2):\n",
        "      ds=[md((x+minx,y+miny),p[1:]) for p in points]\n",
        "      mind=min(ds)\n",
        "      pts=[points[i][0] for i,v in enumerate(ds) if v==mind]\n",
        "      if(x==0 or y==0 or x==maxx-minx+1 or y==maxy-miny+1):\n",
        "        for i in pts:\n",
        "          inf.add(i)\n",
        "      if (len(pts)==1):\n",
        "        if (pts[0] in cts):\n",
        "          cts[pts[0]]+=1\n",
        "        else:\n",
        "          cts[pts[0]]=1\n",
        "  #print(inf)\n",
        "  #print(cts)\n",
        "  return max([v for k,v in cts.items() if k not in inf])\n",
        "\n",
        "      \n",
        "sol1()"
      ],
      "execution_count": 68,
      "outputs": [
        {
          "output_type": "execute_result",
          "data": {
            "text/plain": [
              "3909"
            ]
          },
          "metadata": {
            "tags": []
          },
          "execution_count": 68
        }
      ]
    },
    {
      "metadata": {
        "id": "iFegb74MgfCE",
        "colab_type": "code",
        "colab": {}
      },
      "cell_type": "code",
      "source": [
        ""
      ],
      "execution_count": 0,
      "outputs": []
    }
  ]
}